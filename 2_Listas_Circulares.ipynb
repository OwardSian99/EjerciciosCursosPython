{
  "nbformat": 4,
  "nbformat_minor": 0,
  "metadata": {
    "colab": {
      "name": "2. Listas_Circulares.ipynb",
      "provenance": [],
      "collapsed_sections": [],
      "authorship_tag": "ABX9TyMg+OSRvujQh1QFdFUSGxYz",
      "include_colab_link": true
    },
    "kernelspec": {
      "name": "python3",
      "display_name": "Python 3"
    },
    "language_info": {
      "name": "python"
    }
  },
  "cells": [
    {
      "cell_type": "markdown",
      "metadata": {
        "id": "view-in-github",
        "colab_type": "text"
      },
      "source": [
        "<a href=\"https://colab.research.google.com/github/SoulReaper99/EjerciciosCursosPython/blob/main/2_Listas_Circulares.ipynb\" target=\"_parent\"><img src=\"https://colab.research.google.com/assets/colab-badge.svg\" alt=\"Open In Colab\"/></a>"
      ]
    },
    {
      "cell_type": "markdown",
      "metadata": {
        "id": "JY1l24tauIP6"
      },
      "source": [
        "\n",
        "\n",
        "Definicion de la clase nodo\n"
      ]
    },
    {
      "cell_type": "code",
      "metadata": {
        "id": "63Oa-nhQuN_L"
      },
      "source": [
        "class nodo:\n",
        "  def __init__(self, estudiante=None, siguiente=None):\n",
        "    self.estudiante = estudiante\n",
        "    self.siguiente = siguiente"
      ],
      "execution_count": 1,
      "outputs": []
    },
    {
      "cell_type": "markdown",
      "metadata": {
        "id": "10C61KpbuRCw"
      },
      "source": [
        "Definicion de la clase estudiante\n"
      ]
    },
    {
      "cell_type": "code",
      "metadata": {
        "id": "s0j7oGNkuUkO"
      },
      "source": [
        "class estudiante:\n",
        "  def __init__(self, carne, nombre, edad, direccion, telefono, email, carrera, puesto):\n",
        "    self.carne = carne\n",
        "    self.nombre = nombre\n",
        "    self.edad = edad\n",
        "    self.direccion = direccion\n",
        "    self.telefono = telefono\n",
        "    self.email = email\n",
        "    self.carrera = carrera\n",
        "    self.puesto = puesto"
      ],
      "execution_count": 2,
      "outputs": []
    },
    {
      "cell_type": "markdown",
      "metadata": {
        "id": "z0rwjEgh1nF0"
      },
      "source": [
        "Definicion de la clase Lista Circular"
      ]
    },
    {
      "cell_type": "code",
      "metadata": {
        "id": "YEv9lsRozwQL"
      },
      "source": [
        "class lista_circular:\n",
        "  def __init__(self):\n",
        "    self.primero = None\n",
        "\n",
        "  def insertar(self, estudiante):\n",
        "    if self.primero is None:\n",
        "      self.primero = nodo(estudiante = estudiante)\n",
        "      self.primero.siguiente = self.primero\n",
        "    else:\n",
        "      actual = nodo(estudiante = estudiante, siguiente = self.primero.siguiente)\n",
        "      self.primero.siguiente = actual\n",
        "\n",
        "  def recorrer(self):\n",
        "    if self.primero is None:\n",
        "      return\n",
        "    actual =  self.primero\n",
        "    print(\"carne: \", actual.estudiante.carne, \"Nombre: \",  actual.estudiante.nombre, \"email: \", actual.estudiante.email, \"->\")\n",
        "    while actual.siguiente != self.primero:\n",
        "      actual = actual.siguiente\n",
        "      print(\"carne: \", actual.estudiante.carne, \"Nombre: \",  actual.estudiante.nombre, \"email: \", actual.estudiante.email, \"->\")\n",
        "  \n",
        "  def eliminar(self, carne):\n",
        "    actual = self.primero\n",
        "    anterior = None\n",
        "\n",
        "    while actual and actual.estudiante.carne != carne:\n",
        "      anterior = actual\n",
        "      actual = actual.siguiente\n",
        "      if actual == self.primero:\n",
        "        break\n",
        "\n",
        "    if anterior is not None:\n",
        "      anterior.siguiente = actual.siguiente\n",
        "    else:\n",
        "      while actual.siguiente != primero:\n",
        "        actual =actual.siguiente\n",
        "      actual.siguiente = self.primero.siguiente\n",
        "      self.primero = self.primero.siguiente\n",
        "\n",
        "  def buscar(self, carne):\n",
        "    actual = self.primero\n",
        "    anterior = None\n",
        "\n",
        "    while actual and actual.estudiante.carne != carne:\n",
        "      anterior = actual\n",
        "      actual = actual.siguiente\n",
        "      if actual == self.primero:\n",
        "        break\n",
        "\n",
        "    if actual and actual.estudiante.carne == carne:\n",
        "      print(\"carne: \", actual.estudiante.carne, \"Nombre: \",  actual.estudiante.nombre, \"email: \", actual.estudiante.email, \"->\")\n",
        "    else:\n",
        "      print(\"No encontrado\")\n",
        "        \n",
        "\n",
        "    "
      ],
      "execution_count": 3,
      "outputs": []
    },
    {
      "cell_type": "markdown",
      "metadata": {
        "id": "aBU6JCe59wpu"
      },
      "source": [
        "**Definir nuestros objetos estudiantes**"
      ]
    },
    {
      "cell_type": "code",
      "metadata": {
        "id": "1dl3fkTr931A"
      },
      "source": [
        "e1 = estudiante(2019015059,\"Gerson ortiz\",20, \"9 calle 10-02 zona1\", 24400101,\"gerson.ortiz@gmail.com\",\"Ingenieria en sistemas\",\"Programador junior\")\n",
        "e2 = estudiante(2019015129,\"Karen Hurtarte\",20, \"9 calle 10-02 zona1\", 24550101,\"karen.hurtarte@gmail.com\",\"Ingenieria en sistemas\",\"Programador junior\")\n",
        "e3 = estudiante(2019015259,\"Luis Mendez\",20, \"9 calle 10-02 zona 1\", 25100101,\"luis.mendez@gmail.com\",\"Ingenieria en sistemas\",\"Programador junior\")"
      ],
      "execution_count": 4,
      "outputs": []
    },
    {
      "cell_type": "markdown",
      "metadata": {
        "id": "USZTldDY-BWr"
      },
      "source": [
        "**Inserción**"
      ]
    },
    {
      "cell_type": "code",
      "metadata": {
        "id": "5NUlEYZi-EaJ"
      },
      "source": [
        "lista_c = lista_circular()\n",
        "lista_c.insertar(e1)\n",
        "lista_c.insertar(e2)\n",
        "lista_c.insertar(e3)\n"
      ],
      "execution_count": 5,
      "outputs": []
    },
    {
      "cell_type": "markdown",
      "metadata": {
        "id": "PlkoPos2-S-g"
      },
      "source": [
        "**Recorrer Lista**"
      ]
    },
    {
      "cell_type": "code",
      "metadata": {
        "id": "mZejPXzd-XFQ",
        "colab": {
          "base_uri": "https://localhost:8080/"
        },
        "outputId": "a11eb4b2-818e-4dae-8b32-8d167d03f94c"
      },
      "source": [
        "lista_c.recorrer()"
      ],
      "execution_count": 6,
      "outputs": [
        {
          "output_type": "stream",
          "text": [
            "carne:  2019015059 Nombre:  Gerson ortiz email:  gerson.ortiz@gmail.com ->\n",
            "carne:  2019015259 Nombre:  Luis Mendez email:  luis.mendez@gmail.com ->\n",
            "carne:  2019015129 Nombre:  Karen Hurtarte email:  karen.hurtarte@gmail.com ->\n"
          ],
          "name": "stdout"
        }
      ]
    },
    {
      "cell_type": "markdown",
      "metadata": {
        "id": "SGQut-uxv8tK"
      },
      "source": [
        "**Eliminar**\n"
      ]
    },
    {
      "cell_type": "code",
      "metadata": {
        "id": "zR7aAT_ZyPB9",
        "colab": {
          "base_uri": "https://localhost:8080/"
        },
        "outputId": "63bc92bf-a87e-4341-e44b-6638bca90662"
      },
      "source": [
        "lista_c.eliminar(2019015129)\n",
        "lista_c.recorrer()"
      ],
      "execution_count": 7,
      "outputs": [
        {
          "output_type": "stream",
          "text": [
            "carne:  2019015059 Nombre:  Gerson ortiz email:  gerson.ortiz@gmail.com ->\n",
            "carne:  2019015259 Nombre:  Luis Mendez email:  luis.mendez@gmail.com ->\n"
          ],
          "name": "stdout"
        }
      ]
    },
    {
      "cell_type": "markdown",
      "metadata": {
        "id": "2k4YkL1BtN34"
      },
      "source": [
        "**Buscar**"
      ]
    },
    {
      "cell_type": "code",
      "metadata": {
        "colab": {
          "base_uri": "https://localhost:8080/"
        },
        "id": "7-e3ue6ytqO7",
        "outputId": "701c5443-eb23-4fd3-c47c-39dbff4b1265"
      },
      "source": [
        "lista_c.buscar(2019015259)"
      ],
      "execution_count": 10,
      "outputs": [
        {
          "output_type": "stream",
          "text": [
            "carne:  2019015259 Nombre:  Luis Mendez email:  luis.mendez@gmail.com ->\n"
          ],
          "name": "stdout"
        }
      ]
    },
    {
      "cell_type": "markdown",
      "metadata": {
        "id": "GFJwIvEEtsdf"
      },
      "source": [
        "**Ejemplo carnet no encontrado:**"
      ]
    },
    {
      "cell_type": "code",
      "metadata": {
        "colab": {
          "base_uri": "https://localhost:8080/"
        },
        "id": "HWRXlHHTtQgf",
        "outputId": "9fd5f59f-53e6-4d93-ef74-7ece079c4fa8"
      },
      "source": [
        "lista_c.buscar(202001515)"
      ],
      "execution_count": 9,
      "outputs": [
        {
          "output_type": "stream",
          "text": [
            "No encontrado\n"
          ],
          "name": "stdout"
        }
      ]
    }
  ]
}